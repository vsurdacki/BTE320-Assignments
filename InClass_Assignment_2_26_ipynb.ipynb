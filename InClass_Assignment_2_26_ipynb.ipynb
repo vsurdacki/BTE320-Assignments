{
  "nbformat": 4,
  "nbformat_minor": 0,
  "metadata": {
    "colab": {
      "provenance": [],
      "authorship_tag": "ABX9TyNOMLBAHENuoceKtdCLGQ2Z",
      "include_colab_link": true
    },
    "kernelspec": {
      "name": "python3",
      "display_name": "Python 3"
    },
    "language_info": {
      "name": "python"
    }
  },
  "cells": [
    {
      "cell_type": "markdown",
      "metadata": {
        "id": "view-in-github",
        "colab_type": "text"
      },
      "source": [
        "<a href=\"https://colab.research.google.com/github/vsurdacki/BTE320-Assignments/blob/main/InClass_Assignment_2_26_ipynb.ipynb\" target=\"_parent\"><img src=\"https://colab.research.google.com/assets/colab-badge.svg\" alt=\"Open In Colab\"/></a>"
      ]
    },
    {
      "cell_type": "markdown",
      "source": [
        "Parking Garage 2.0 - A parkng garage charges $5 plus $2.50 for each hour, min. fee is $10 and max fee is $20. hours from 1-8"
      ],
      "metadata": {
        "id": "Ltmc2Bwf-FjU"
      }
    },
    {
      "cell_type": "code",
      "execution_count": 1,
      "metadata": {
        "colab": {
          "base_uri": "https://localhost:8080/"
        },
        "id": "821RlmJO9-LW",
        "outputId": "5b5a8dae-b2fb-466e-abe8-66ebb4ad81c3"
      },
      "outputs": [
        {
          "output_type": "stream",
          "name": "stdout",
          "text": [
            "How many hours did you park?: 6\n",
            "fee: 20$\n"
          ]
        }
      ],
      "source": [
        "def calcFee(hours):\n",
        "  fee = 5 + 2.5 * hours #if you add the for loop that is what makes the program give all the prices\n",
        "  if fee <= 10:\n",
        "    fee = 10\n",
        "  elif fee >= 20:\n",
        "    fee = 20\n",
        "  print(f\"fee: {fee}$\")\n",
        "\n",
        "numHours = int(input(\"How many hours did you park?: \"))\n",
        "calcFee(numHours)"
      ]
    }
  ]
}