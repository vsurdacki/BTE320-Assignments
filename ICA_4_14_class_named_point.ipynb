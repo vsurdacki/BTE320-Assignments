{
  "nbformat": 4,
  "nbformat_minor": 0,
  "metadata": {
    "colab": {
      "provenance": [],
      "authorship_tag": "ABX9TyOZIlMaNhyWKrAurS2x3tGr",
      "include_colab_link": true
    },
    "kernelspec": {
      "name": "python3",
      "display_name": "Python 3"
    },
    "language_info": {
      "name": "python"
    }
  },
  "cells": [
    {
      "cell_type": "markdown",
      "metadata": {
        "id": "view-in-github",
        "colab_type": "text"
      },
      "source": [
        "<a href=\"https://colab.research.google.com/github/vsurdacki/BTE320-Assignments/blob/main/ICA_4_14_class_named_point.ipynb\" target=\"_parent\"><img src=\"https://colab.research.google.com/assets/colab-badge.svg\" alt=\"Open In Colab\"/></a>"
      ]
    },
    {
      "cell_type": "markdown",
      "source": [
        "Define a class named point. It will represent a point in x-y coordinate space\n",
        "Attributes: * x (int) * y (int)\n",
        "it will have a method named distance which calculates the distance between two points\n",
        "Hints:\n",
        "- to calculate distance (d)\n",
        "  - get the difference between x values (x_diff)\n",
        "  - get the differnece between y values (y_diff)\n",
        "  - d = math.sqrt(x_diff**2 + y_diff**2)"
      ],
      "metadata": {
        "id": "_6MhGMNCND0p"
      }
    },
    {
      "cell_type": "code",
      "source": [],
      "metadata": {
        "id": "EQZMj1JGfFeW"
      },
      "execution_count": null,
      "outputs": []
    },
    {
      "cell_type": "code",
      "execution_count": 31,
      "metadata": {
        "id": "4HVjRxxtNBJx"
      },
      "outputs": [],
      "source": [
        "import math\n",
        "\n",
        "class Point:\n",
        "  def __init__(self, x, y):\n",
        "    self.x = x\n",
        "    self.y = y\n",
        "\n",
        "  def distance(self, other):\n",
        "    dx = (self.x - other.x) **2\n",
        "    dy = (self.y - other.y) **2\n",
        "    rdist = math.sqrt(dx + dy)\n",
        "    return rdist"
      ]
    },
    {
      "cell_type": "code",
      "source": [
        "class Rectangle:\n",
        "  def __init__(self, c1, c2, c3, c4):\n",
        "    self.c1 = c1\n",
        "    self.c2 = c2\n",
        "    self.c3 = c3\n",
        "    self.c4 = c4\n",
        "\n",
        "p1 = Point(0, 0)\n",
        "p2 = Point(0, 2)\n",
        "p3 = Point(2, 0)\n",
        "p4 = Point(2, 2)\n",
        "\n",
        "square = Rectangle(p1, p2, p3, p4)"
      ],
      "metadata": {
        "id": "RW4nnHMRerh5"
      },
      "execution_count": 25,
      "outputs": []
    },
    {
      "cell_type": "markdown",
      "source": [
        "define a class named rectangle. it represents a rectangle on the x-y coordinate axis.\n",
        "rectangle has 4 attributes:\n",
        "- corner_1 (point)\n",
        "- corner_2 (point)\n",
        "- corner_3 (point)\n",
        "- corner_4 (point)\n",
        "the type of these 4 ocrners are the point class we defined above.\n",
        "corner_1 and corner_2 are on the same line (side) and corner_3 and corner_4 are on the same line (side)\n",
        "This is how the corners look like\n",
        "\n",
        "1...............2\n",
        ".               .\n",
        ".               .\n",
        ".               .\n",
        ".               .\n",
        "3...............4\n",
        "\n",
        "\n",
        "the class has methods to calculate its width and length.\n",
        "- width = distance btw corner_1 and corner_2 --> calculate_width()\n",
        "- length = distance btw corner_1 and corner_2 --> calculate_length()\n",
        "\n",
        "rectangle uses point class to calculate these distances. finally, rectangle had a method which returns its area. the name of this method is \"area\""
      ],
      "metadata": {
        "id": "5MSwfdE0P2E5"
      }
    },
    {
      "cell_type": "code",
      "source": [
        "class Rectangle:\n",
        "  def __init__(self):\n",
        "    self.c1 = Point(0, 0)\n",
        "    self.c2 = Point(0, 2)\n",
        "    self.c3 = Point(2, 0)\n",
        "    self.c4 = Point(2, 2)\n",
        "    self.width = self.calculate_width()\n",
        "    self.height = self.calculate_height()\n",
        "\n",
        "  def calculate_width(self):\n",
        "    return self.c1.distance(self.c2)\n",
        "\n",
        "  def calculate_height(self):\n",
        "    return self.c3.distance(self.c4)\n",
        "\n",
        "  def area(self):\n",
        "    return self.width * self.height\n",
        "\n",
        "square = Rectangle()\n",
        "square.area()"
      ],
      "metadata": {
        "id": "sdlJVgO8OVX6",
        "colab": {
          "base_uri": "https://localhost:8080/"
        },
        "outputId": "48c61896-087e-4b05-b702-b92c50aa77a4"
      },
      "execution_count": 33,
      "outputs": [
        {
          "output_type": "execute_result",
          "data": {
            "text/plain": [
              "4.0"
            ]
          },
          "metadata": {},
          "execution_count": 33
        }
      ]
    }
  ]
}