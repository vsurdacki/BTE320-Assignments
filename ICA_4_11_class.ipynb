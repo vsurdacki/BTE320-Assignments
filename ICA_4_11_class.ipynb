{
  "nbformat": 4,
  "nbformat_minor": 0,
  "metadata": {
    "colab": {
      "provenance": [],
      "authorship_tag": "ABX9TyPq1zNo3QS/dxZwxXAHMICD",
      "include_colab_link": true
    },
    "kernelspec": {
      "name": "python3",
      "display_name": "Python 3"
    },
    "language_info": {
      "name": "python"
    }
  },
  "cells": [
    {
      "cell_type": "markdown",
      "metadata": {
        "id": "view-in-github",
        "colab_type": "text"
      },
      "source": [
        "<a href=\"https://colab.research.google.com/github/vsurdacki/BTE320-Assignments/blob/main/ICA_4_11_class.ipynb\" target=\"_parent\"><img src=\"https://colab.research.google.com/assets/colab-badge.svg\" alt=\"Open In Colab\"/></a>"
      ]
    },
    {
      "cell_type": "markdown",
      "source": [
        "Define a class named student. student has two attributes: name (str) and number (str)\n",
        "Create two student object out of this class\n",
        "the objects will be:\n",
        "name: James Bond, number: 007\n",
        "name: clark kent, number 333\n",
        "print their names"
      ],
      "metadata": {
        "id": "ERx5LdR9qEy5"
      }
    },
    {
      "cell_type": "code",
      "execution_count": 1,
      "metadata": {
        "colab": {
          "base_uri": "https://localhost:8080/"
        },
        "id": "0UuX20nsp-b7",
        "outputId": "0974e38a-862b-4269-d888-46de115cb2cb"
      },
      "outputs": [
        {
          "output_type": "stream",
          "name": "stdout",
          "text": [
            "James Bond\n",
            "Clark Kent\n"
          ]
        }
      ],
      "source": [
        "class Student:\n",
        "    def __init__(self, name, number):\n",
        "        self.name = name\n",
        "        self.number = number\n",
        "\n",
        "student1 = Student(\"James Bond\", \"007\")\n",
        "student2 = Student(\"Clark Kent\", \"333\")\n",
        "\n",
        "print(student1.name)\n",
        "print(student2.name)"
      ]
    },
    {
      "cell_type": "markdown",
      "source": [
        "include a new atrribute, courses, and it will keep the list of courses that the student takes.\n",
        "its type is list and it will initalize as an empty list. there will be a method names \"enroll\" to enroll the course. the student will enroll the course, if it has not enrolled already. moreover, there will be a method names \"get_courseS\" which will return the course list.\n",
        "redefine the student class based on these info:\n",
        "student data:\n",
        "- name: john doe, number 1111\n",
        "- courses: BTE320 and BTE401"
      ],
      "metadata": {
        "id": "i2UkpUBFsSjG"
      }
    },
    {
      "cell_type": "code",
      "source": [
        "class Student:\n",
        "  def __init__(self, name, number):\n",
        "    self.name = name\n",
        "    self.number = number\n",
        "    self.courses = []\n",
        "\n",
        "  def enroll(self, course):\n",
        "    if course not in self.courses:\n",
        "        print(f\"You are already enrolled in {course}!\")\n",
        "    else:\n",
        "        self.courses.append(course)\n",
        "\n",
        "  def get_courses(self):\n",
        "    return self.courses\n",
        "\n",
        "student1 = Student(\"James Bond\", \"007\")\n",
        "student2 = Student(\"Clark Kent\", \"333\")\n",
        "student3 = Student(\"John Doe\", \"1111\")\n"
      ],
      "metadata": {
        "id": "uo6WocCes5Vj"
      },
      "execution_count": 8,
      "outputs": []
    },
    {
      "cell_type": "code",
      "source": [
        "student1.enroll(\"BTE320\")"
      ],
      "metadata": {
        "colab": {
          "base_uri": "https://localhost:8080/"
        },
        "id": "RXhXPB2FwndX",
        "outputId": "d76d5672-017f-4517-e687-2106d16a5ba9"
      },
      "execution_count": 9,
      "outputs": [
        {
          "output_type": "stream",
          "name": "stdout",
          "text": [
            "You are already enrolled in BTE320!\n"
          ]
        }
      ]
    }
  ]
}