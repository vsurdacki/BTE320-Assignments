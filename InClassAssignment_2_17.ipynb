{
  "nbformat": 4,
  "nbformat_minor": 0,
  "metadata": {
    "colab": {
      "provenance": [],
      "authorship_tag": "ABX9TyP2shn+wdVkmgTG93p/nz3L",
      "include_colab_link": true
    },
    "kernelspec": {
      "name": "python3",
      "display_name": "Python 3"
    },
    "language_info": {
      "name": "python"
    }
  },
  "cells": [
    {
      "cell_type": "markdown",
      "metadata": {
        "id": "view-in-github",
        "colab_type": "text"
      },
      "source": [
        "<a href=\"https://colab.research.google.com/github/vsurdacki/BTE320-Assignments/blob/main/InClassAssignment_2_17.ipynb\" target=\"_parent\"><img src=\"https://colab.research.google.com/assets/colab-badge.svg\" alt=\"Open In Colab\"/></a>"
      ]
    },
    {
      "cell_type": "markdown",
      "source": [
        "given a empty list, design a program that repeatedly asked the user to add a number. this process stops when the user gives 0. the list goes in desending order. the number zero cannot be on the list."
      ],
      "metadata": {
        "id": "VjEdkwtk_qL-"
      }
    },
    {
      "cell_type": "code",
      "execution_count": 6,
      "metadata": {
        "colab": {
          "base_uri": "https://localhost:8080/"
        },
        "id": "rO1jp4MJ_itL",
        "outputId": "703a3a1b-a358-486e-ac9d-febdbc9e516c"
      },
      "outputs": [
        {
          "output_type": "stream",
          "name": "stdout",
          "text": [
            "Enter a number: 9\n",
            "Enter a number: 8\n",
            "Enter a number: 4\n",
            "Enter a number: 6\n",
            "Enter a number: 0\n",
            "Numbers in Desending Order:  [9.0, 8.0, 6.0, 4.0]\n"
          ]
        }
      ],
      "source": [
        "numbers = []\n",
        "\n",
        "num = float(input(\"Enter a number: \"))\n",
        "\n",
        "while num != 0:\n",
        "    numbers.append(num)\n",
        "    num = float(input(\"Enter a number: \"))\n",
        "\n",
        "numbers.sort(reverse=True)\n",
        "\n",
        "print(\"Numbers in Desending Order: \", numbers)"
      ]
    },
    {
      "cell_type": "code",
      "source": [
        "L = [1, \"two\", 3.14, [4,5,6]]\n",
        "L.remove(3.14)\n",
        "L"
      ],
      "metadata": {
        "colab": {
          "base_uri": "https://localhost:8080/"
        },
        "id": "XA8ME2OsEZN9",
        "outputId": "0a0a3259-a0d2-4646-e3c9-c10cc50ec734"
      },
      "execution_count": 11,
      "outputs": [
        {
          "output_type": "execute_result",
          "data": {
            "text/plain": [
              "[1, 'two', [4, 5, 6]]"
            ]
          },
          "metadata": {},
          "execution_count": 11
        }
      ]
    },
    {
      "cell_type": "code",
      "source": [
        "L1 = [1,2,3,4]\n",
        "L2 = [1,2,5,6]\n",
        "\n",
        "for item in L1[:]:\n",
        "  if item in L2:\n",
        "    L1.remove(item)\n",
        "\n",
        "L1"
      ],
      "metadata": {
        "colab": {
          "base_uri": "https://localhost:8080/"
        },
        "id": "sUQiLveWFKYA",
        "outputId": "5b5c29b7-7fab-4895-b9c1-188fdf78bfae"
      },
      "execution_count": 13,
      "outputs": [
        {
          "output_type": "execute_result",
          "data": {
            "text/plain": [
              "[3, 4]"
            ]
          },
          "metadata": {},
          "execution_count": 13
        }
      ]
    }
  ]
}