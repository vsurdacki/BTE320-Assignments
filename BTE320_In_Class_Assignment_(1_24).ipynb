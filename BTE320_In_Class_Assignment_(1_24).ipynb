{
  "nbformat": 4,
  "nbformat_minor": 0,
  "metadata": {
    "colab": {
      "provenance": [],
      "authorship_tag": "ABX9TyN6rUNx241FRVV01Vy2bGdy",
      "include_colab_link": true
    },
    "kernelspec": {
      "name": "python3",
      "display_name": "Python 3"
    },
    "language_info": {
      "name": "python"
    }
  },
  "cells": [
    {
      "cell_type": "markdown",
      "metadata": {
        "id": "view-in-github",
        "colab_type": "text"
      },
      "source": [
        "<a href=\"https://colab.research.google.com/github/vsurdacki/BTE320-Assignments/blob/main/BTE320_In_Class_Assignment_(1_24).ipynb\" target=\"_parent\"><img src=\"https://colab.research.google.com/assets/colab-badge.svg\" alt=\"Open In Colab\"/></a>"
      ]
    },
    {
      "cell_type": "code",
      "execution_count": null,
      "metadata": {
        "id": "JrEycpRHaGOC"
      },
      "outputs": [],
      "source": [
        "# Calculate the Surface Area of a Cylinder"
      ]
    },
    {
      "cell_type": "code",
      "source": [
        "radius = float(input(\"Please provide a radius: \"))\n",
        "height = float(input(\"Please provide a height: \"))\n",
        "surface_area = (2 * 3.14 * radius**2) + (2 * 3.14* radius *height)\n",
        "print(\"The surface area of a cylinder is \",surface_area, \"sq. ft\")\n"
      ],
      "metadata": {
        "colab": {
          "base_uri": "https://localhost:8080/"
        },
        "id": "ShB5Bp2VaWMD",
        "outputId": "c2b75a8d-31d0-462c-91ad-329889017b2f"
      },
      "execution_count": null,
      "outputs": [
        {
          "output_type": "stream",
          "name": "stdout",
          "text": [
            "Please provide a radius: 5\n",
            "Please provide a height: 10\n",
            "The surface area of a cylinder is  471.0 sq. ft\n"
          ]
        }
      ]
    },
    {
      "cell_type": "code",
      "source": [],
      "metadata": {
        "id": "tCXf2zCDc7Gx"
      },
      "execution_count": null,
      "outputs": []
    }
  ]
}