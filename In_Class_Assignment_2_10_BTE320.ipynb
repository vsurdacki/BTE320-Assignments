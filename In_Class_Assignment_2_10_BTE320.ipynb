{
  "nbformat": 4,
  "nbformat_minor": 0,
  "metadata": {
    "colab": {
      "provenance": [],
      "authorship_tag": "ABX9TyMVC59qEqcU2gmWcNRIqnP6",
      "include_colab_link": true
    },
    "kernelspec": {
      "name": "python3",
      "display_name": "Python 3"
    },
    "language_info": {
      "name": "python"
    }
  },
  "cells": [
    {
      "cell_type": "markdown",
      "metadata": {
        "id": "view-in-github",
        "colab_type": "text"
      },
      "source": [
        "<a href=\"https://colab.research.google.com/github/vsurdacki/BTE320-Assignments/blob/main/In_Class_Assignment_2_10_BTE320.ipynb\" target=\"_parent\"><img src=\"https://colab.research.google.com/assets/colab-badge.svg\" alt=\"Open In Colab\"/></a>"
      ]
    },
    {
      "cell_type": "markdown",
      "source": [
        "Rock - Paper - Scissors\n",
        "the game repeats until user(s) want to stop"
      ],
      "metadata": {
        "id": "jmDTZ7Ma4qym"
      }
    },
    {
      "cell_type": "code",
      "source": [
        "play = input(\"Do you want to play a game? (y/n): \")\n",
        "\n",
        "while play == \"y\":\n",
        "  p1 = input(\"Player 1, enter rock, paper, or scissors: \")\n",
        "  p2 = input(\"Player 2, enter rock, paper, or scissors: \")\n",
        "\n",
        "  if p1 == p2:\n",
        "    print(\"Draw\")\n",
        "  elif p1 == \"rock\" and p2 == \"scissors\":\n",
        "    print(\"Player 1 wins\")\n",
        "  elif p1 == \"scissors\" and p2 == \"paper\":\n",
        "    print(\"Player 1 wins\")\n",
        "  elif p1 == \"paper\" and p2 == \"rock\":\n",
        "    print(\"Player 1 wins\")\n",
        "  else:\n",
        "    print(\"Player 2 wins\")\n",
        "\n",
        "  play = input(\"Do you want to play again? (y/n): \")\n",
        "  print(\"Good day!\")"
      ],
      "metadata": {
        "colab": {
          "base_uri": "https://localhost:8080/"
        },
        "id": "i5fbW24z9kB_",
        "outputId": "9c45231f-ee53-4740-9c19-7bf89d75c4c8"
      },
      "execution_count": 40,
      "outputs": [
        {
          "output_type": "stream",
          "name": "stdout",
          "text": [
            "Do you want to play a game? (y/n): y\n",
            "Player 1, enter rock, paper, or scissors: rock\n",
            "Player 2, enter rock, paper, or scissors: paper\n",
            "Player 2 wins\n",
            "Do you want to play again? (y/n): n\n",
            "Good day!\n"
          ]
        }
      ]
    },
    {
      "cell_type": "markdown",
      "source": [
        "either works, code under is just with \"or\" rather than elif each time and for you to verse a computer"
      ],
      "metadata": {
        "id": "__jT1R5SBZsm"
      }
    },
    {
      "cell_type": "code",
      "source": [
        "import random\n",
        "\n",
        "play = input(\"Do you want to play a game? (y/n): \")\n",
        "\n",
        "while play == \"y\":\n",
        "  p1 = input(\"Player enter rock, paper, or scissors: \").capitalize()\n",
        "  p2 = random.choice([\"rock\", \"paper\", \"scissors\"]).capitalize()\n",
        "\n",
        "  print(f'Player chose {p1}, computer choose {p2}')\n",
        "\n",
        "  if p1 == p2:\n",
        "    print(\"Draw\")\n",
        "  elif ((p1 == \"Rock\" and p2 == \"Scissors\") or\n",
        "   (p1 == \"Scissors\" and p2 == \"Paper\") or\n",
        "    (p1 == \"Paper\" and p2 == \"Rock\")):\n",
        "    print(\"Player wins\")\n",
        "  else:\n",
        "    print(\"Computer wins\")\n",
        "\n",
        "  play = input(\"Do you want to play again? (y/n): \")\n",
        "  print(\"Good day!\")"
      ],
      "metadata": {
        "colab": {
          "base_uri": "https://localhost:8080/"
        },
        "id": "Cb-D-5SyAxQe",
        "outputId": "bf490547-a52d-4e11-a289-e7c0bd336571"
      },
      "execution_count": 48,
      "outputs": [
        {
          "output_type": "stream",
          "name": "stdout",
          "text": [
            "Do you want to play a game? (y/n): y\n",
            "Player enter rock, paper, or scissors: paper\n",
            "Player chose Paper, computer choose Scissors\n",
            "Computer wins\n",
            "Do you want to play again? (y/n): n\n",
            "Good day!\n"
          ]
        }
      ]
    }
  ]
}