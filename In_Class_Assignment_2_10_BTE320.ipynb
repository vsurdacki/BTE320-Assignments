{
  "nbformat": 4,
  "nbformat_minor": 0,
  "metadata": {
    "colab": {
      "provenance": [],
      "authorship_tag": "ABX9TyPw01ydSV54S2wn73CE9Hwr",
      "include_colab_link": true
    },
    "kernelspec": {
      "name": "python3",
      "display_name": "Python 3"
    },
    "language_info": {
      "name": "python"
    }
  },
  "cells": [
    {
      "cell_type": "markdown",
      "metadata": {
        "id": "view-in-github",
        "colab_type": "text"
      },
      "source": [
        "<a href=\"https://colab.research.google.com/github/vsurdacki/BTE320-Assignments/blob/main/In_Class_Assignment_2_10_BTE320.ipynb\" target=\"_parent\"><img src=\"https://colab.research.google.com/assets/colab-badge.svg\" alt=\"Open In Colab\"/></a>"
      ]
    },
    {
      "cell_type": "markdown",
      "source": [
        "Rock - Paper - Scissors\n",
        "the game repeats until user(s) want to stop"
      ],
      "metadata": {
        "id": "jmDTZ7Ma4qym"
      }
    },
    {
      "cell_type": "code",
      "source": [
        "play = input(\"Do you want to play a game? (y/n): \")\n",
        "\n",
        "while play == \"y\":\n",
        "  p1 = input(\"Player 1, enter rock, paper, or scissors: \")\n",
        "  p2 = input(\"Player 2, enter rock, paper, or scissors: \")\n",
        "\n",
        "  if p1 == p2:\n",
        "    print(\"Draw\")\n",
        "  elif p1 == \"rock\" and p2 == \"scissors\":\n",
        "    print(\"Player 1 wins\")\n",
        "  elif p1 == \"scissors\" and p2 == \"paper\":\n",
        "    print(\"Player 1 wins\")\n",
        "  elif p1 == \"paper\" and p2 == \"rock\":\n",
        "    print(\"Player 1 wins\")\n",
        "  else:\n",
        "    print(\"Player 2 wins\")\n",
        "\n",
        "  play = input(\"Do you want to play again? (y/n): \")"
      ],
      "metadata": {
        "colab": {
          "base_uri": "https://localhost:8080/"
        },
        "id": "i5fbW24z9kB_",
        "outputId": "6a0ac768-9712-43dc-eef8-a1169ce1ea58"
      },
      "execution_count": 37,
      "outputs": [
        {
          "name": "stdout",
          "output_type": "stream",
          "text": [
            "Do you want to play a game? (y/n): y\n",
            "Player 1, enter rock, paper, or scissors: rock\n",
            "Player 2, enter rock, paper, or scissors: paper\n",
            "Player 2 wins\n",
            "Do you want to play again? (y/n): y\n",
            "Player 1, enter rock, paper, or scissors: scissors\n",
            "Player 2, enter rock, paper, or scissors: rocl\n",
            "Player 2 wins\n",
            "Do you want to play again? (y/n): y\n",
            "Player 1, enter rock, paper, or scissors: rock\n",
            "Player 2, enter rock, paper, or scissors: scissors\n",
            "Player 1 wins\n",
            "Do you want to play again? (y/n): n\n"
          ]
        }
      ]
    }
  ]
}