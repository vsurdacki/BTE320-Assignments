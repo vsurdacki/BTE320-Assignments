{
  "nbformat": 4,
  "nbformat_minor": 0,
  "metadata": {
    "colab": {
      "provenance": [],
      "authorship_tag": "ABX9TyPv1BxKHVa4yiZZKjoGmbWj",
      "include_colab_link": true
    },
    "kernelspec": {
      "name": "python3",
      "display_name": "Python 3"
    },
    "language_info": {
      "name": "python"
    }
  },
  "cells": [
    {
      "cell_type": "markdown",
      "metadata": {
        "id": "view-in-github",
        "colab_type": "text"
      },
      "source": [
        "<a href=\"https://colab.research.google.com/github/vsurdacki/BTE320-Assignments/blob/main/In_Class_Assignment_2_10_BTE320.ipynb\" target=\"_parent\"><img src=\"https://colab.research.google.com/assets/colab-badge.svg\" alt=\"Open In Colab\"/></a>"
      ]
    },
    {
      "cell_type": "markdown",
      "source": [
        "Rock - Paper - Scissors\n",
        "the game repeats until user(s) want to stop"
      ],
      "metadata": {
        "id": "jmDTZ7Ma4qym"
      }
    },
    {
      "cell_type": "code",
      "source": [
        "play = input(\"Do you want to play a game? (y/n): \")\n",
        "\n",
        "while play == \"y\":\n",
        "  p1 = input(\"Player 1, enter rock, paper, or scissors: \")\n",
        "  p2 = input(\"Player 2, enter rock, paper, or scissors: \")\n",
        "\n",
        "  if p1 == p2:\n",
        "    print(\"Draw\")\n",
        "  elif p1 == \"rock\" and p2 == \"scissors\":\n",
        "    print(\"Player 1 wins\")\n",
        "  elif p1 == \"scissors\" and p2 == \"paper\":\n",
        "    print(\"Player 1 wins\")\n",
        "  elif p1 == \"paper\" and p2 == \"rock\":\n",
        "    print(\"Player 1 wins\")\n",
        "  else:\n",
        "    print(\"Player 2 wins\")\n",
        "\n",
        "  play = input(\"Do you want to play again? (y/n): \")\n",
        "  print(\"Good day!\")"
      ],
      "metadata": {
        "colab": {
          "base_uri": "https://localhost:8080/"
        },
        "id": "i5fbW24z9kB_",
        "outputId": "9c45231f-ee53-4740-9c19-7bf89d75c4c8"
      },
      "execution_count": 40,
      "outputs": [
        {
          "output_type": "stream",
          "name": "stdout",
          "text": [
            "Do you want to play a game? (y/n): y\n",
            "Player 1, enter rock, paper, or scissors: rock\n",
            "Player 2, enter rock, paper, or scissors: paper\n",
            "Player 2 wins\n",
            "Do you want to play again? (y/n): n\n",
            "Good day!\n"
          ]
        }
      ]
    },
    {
      "cell_type": "markdown",
      "source": [
        "either works, code under is just with \"or\" rather than elif each time"
      ],
      "metadata": {
        "id": "__jT1R5SBZsm"
      }
    },
    {
      "cell_type": "code",
      "source": [
        "play = input(\"Do you want to play a game? (y/n): \")\n",
        "\n",
        "while play == \"y\":\n",
        "  p1 = input(\"Player 1, enter rock, paper, or scissors: \")\n",
        "  p2 = input(\"Player 2, enter rock, paper, or scissors: \")\n",
        "\n",
        "  if p1 == p2:\n",
        "    print(\"Draw\")\n",
        "  elif ((p1 == \"rock\" and p2 == \"scissors\") or\n",
        "   (p1 == \"scissors\" and p2 == \"paper\") or\n",
        "    (p1 == \"paper\" and p2 == \"rock\")):\n",
        "    print(\"Player 1 wins\")\n",
        "  else:\n",
        "    print(\"Player 2 wins\")\n",
        "\n",
        "  play = input(\"Do you want to play again? (y/n): \")\n",
        "  print(\"Good day!\")"
      ],
      "metadata": {
        "colab": {
          "base_uri": "https://localhost:8080/"
        },
        "id": "Cb-D-5SyAxQe",
        "outputId": "4473a5c5-cba7-4685-f133-b1cf3995d894"
      },
      "execution_count": 43,
      "outputs": [
        {
          "output_type": "stream",
          "name": "stdout",
          "text": [
            "Do you want to play a game? (y/n): y\n",
            "Player 1, enter rock, paper, or scissors: paper\n",
            "Player 2, enter rock, paper, or scissors: rock\n",
            "Player 1 wins\n",
            "Do you want to play again? (y/n): n\n",
            "Good day!\n"
          ]
        }
      ]
    }
  ]
}