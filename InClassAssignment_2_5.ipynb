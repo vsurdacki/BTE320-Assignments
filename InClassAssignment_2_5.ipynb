{
  "nbformat": 4,
  "nbformat_minor": 0,
  "metadata": {
    "colab": {
      "provenance": [],
      "authorship_tag": "ABX9TyMMG5FCCw0mC9lD65x1hquU",
      "include_colab_link": true
    },
    "kernelspec": {
      "name": "python3",
      "display_name": "Python 3"
    },
    "language_info": {
      "name": "python"
    }
  },
  "cells": [
    {
      "cell_type": "markdown",
      "metadata": {
        "id": "view-in-github",
        "colab_type": "text"
      },
      "source": [
        "<a href=\"https://colab.research.google.com/github/vsurdacki/BTE320-Assignments/blob/main/InClassAssignment_2_5.ipynb\" target=\"_parent\"><img src=\"https://colab.research.google.com/assets/colab-badge.svg\" alt=\"Open In Colab\"/></a>"
      ]
    },
    {
      "cell_type": "markdown",
      "source": [
        "A parking garade charges $5 plus $2.5 for each hour. The minimum fee is $10, the max is $20. Write a prgogram that generates a table with hours parked and the corresponding fee, from 1 to 8 hours"
      ],
      "metadata": {
        "id": "RWzFXYOPNgqP"
      }
    },
    {
      "cell_type": "code",
      "execution_count": 9,
      "metadata": {
        "colab": {
          "base_uri": "https://localhost:8080/"
        },
        "id": "It7Q4N-NJYZB",
        "outputId": "d88b829b-5669-4336-b864-a3aafa502e98"
      },
      "outputs": [
        {
          "output_type": "stream",
          "name": "stdout",
          "text": [
            "1 10.0\n",
            "2 10.0\n",
            "3 12.5\n",
            "4 15.0\n",
            "5 17.5\n",
            "6 20.0\n",
            "7 20.0\n",
            "8 20.0\n"
          ]
        }
      ],
      "source": [
        "for hours in range(1,9):\n",
        "  fee = 5 + 2.5 * hours\n",
        "  if fee <= 10:\n",
        "    fee = 10.0\n",
        "  elif fee >= 20:\n",
        "    fee = 20.0\n",
        "  print(hours, fee)"
      ]
    },
    {
      "cell_type": "markdown",
      "source": [
        "A movie theather is deciding how much to spend on advertising. each movie ticket is $10. without ads, 20 people would attend. addition people may attend based on ad. spending which is estimated ot be: additional attendees = 2 * round(advertisingDollars^2). in addition to ad costs, there are fixed costs of $200. write a program to generate a table for different ad amounts and profits."
      ],
      "metadata": {
        "id": "fUVKvJ4PN8Qt"
      }
    },
    {
      "cell_type": "code",
      "source": [
        "for cost in range(0,201,25):\n",
        "  attendees = 20\n",
        "  additionalattendees = 2.0 * round(cost**.5)\n",
        "  profit = (attendees + additionalattendees) * 10.0 - 200.0\n",
        "\n",
        "  print(cost, profit-cost)"
      ],
      "metadata": {
        "colab": {
          "base_uri": "https://localhost:8080/"
        },
        "id": "P4XkXK7ROWpg",
        "outputId": "85c5fe44-5aff-4d83-e911-e781c474c572"
      },
      "execution_count": 33,
      "outputs": [
        {
          "output_type": "stream",
          "name": "stdout",
          "text": [
            "0 0.0\n",
            "25 75.0\n",
            "50 90.0\n",
            "75 105.0\n",
            "100 100.0\n",
            "125 95.0\n",
            "150 90.0\n",
            "175 85.0\n",
            "200 80.0\n"
          ]
        }
      ]
    },
    {
      "cell_type": "code",
      "source": [
        "print(\"Ad$\\t\", \"Profit\")\n",
        "for adcost in range(0,201,25):\n",
        "  additional = 2 * round(adcost**0.5)\n",
        "  profit = (20 + additional) * 10 - 200 - adcost\n",
        "  print(adcost, \"\\t\", profit)"
      ],
      "metadata": {
        "colab": {
          "base_uri": "https://localhost:8080/"
        },
        "id": "_GgeVsVHSEDN",
        "outputId": "09ae49dd-65f4-42e6-d809-c9834437c4d3"
      },
      "execution_count": 37,
      "outputs": [
        {
          "output_type": "stream",
          "name": "stdout",
          "text": [
            "Ad$\t Profit\n",
            "0 \t 0\n",
            "25 \t 75\n",
            "50 \t 90\n",
            "75 \t 105\n",
            "100 \t 100\n",
            "125 \t 95\n",
            "150 \t 90\n",
            "175 \t 85\n",
            "200 \t 80\n"
          ]
        }
      ]
    },
    {
      "cell_type": "code",
      "source": [],
      "metadata": {
        "id": "0Boyqf6mSG-7"
      },
      "execution_count": null,
      "outputs": []
    }
  ]
}