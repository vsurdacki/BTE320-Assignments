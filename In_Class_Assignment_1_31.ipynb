{
  "nbformat": 4,
  "nbformat_minor": 0,
  "metadata": {
    "colab": {
      "provenance": [],
      "authorship_tag": "ABX9TyOAkJF9ezDJ9Q1dhqeFKjfW",
      "include_colab_link": true
    },
    "kernelspec": {
      "name": "python3",
      "display_name": "Python 3"
    },
    "language_info": {
      "name": "python"
    }
  },
  "cells": [
    {
      "cell_type": "markdown",
      "metadata": {
        "id": "view-in-github",
        "colab_type": "text"
      },
      "source": [
        "<a href=\"https://colab.research.google.com/github/vsurdacki/BTE320-Assignments/blob/main/In_Class_Assignment_1_31.ipynb\" target=\"_parent\"><img src=\"https://colab.research.google.com/assets/colab-badge.svg\" alt=\"Open In Colab\"/></a>"
      ]
    },
    {
      "cell_type": "code",
      "execution_count": 1,
      "metadata": {
        "colab": {
          "base_uri": "https://localhost:8080/"
        },
        "id": "NzWiveJd0r7z",
        "outputId": "420b4ce2-4f55-4d4e-cf59-4d6a24f66c51"
      },
      "outputs": [
        {
          "output_type": "stream",
          "name": "stdout",
          "text": [
            "Please enter the first number: 45\n",
            "Please enter the second number: 3\n",
            "Please enter the operator: *\n",
            "135.0\n"
          ]
        }
      ],
      "source": [
        "number_1 = float(input(\"Please enter the first number: \"))\n",
        "number_2 = float(input(\"Please enter the second number: \"))\n",
        "operator = input(\"Please enter the operator: \")\n",
        "\n",
        "if operator == \"+\":\n",
        "    print(number_1 + number_2)\n",
        "elif operator == \"-\":\n",
        "    print(number_1 - number_2)\n",
        "elif operator == \"*\":\n",
        "    print(number_1 * number_2)\n",
        "elif operator == \"/\":\n",
        "    print(number_1 / number_2)\n",
        "else:\n",
        "    print(\"Invalid operator\")"
      ]
    }
  ]
}