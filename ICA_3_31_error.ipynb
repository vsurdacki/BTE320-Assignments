{
  "nbformat": 4,
  "nbformat_minor": 0,
  "metadata": {
    "colab": {
      "provenance": [],
      "authorship_tag": "ABX9TyOTp7X3VC+M2u0ifeTnvbMu",
      "include_colab_link": true
    },
    "kernelspec": {
      "name": "python3",
      "display_name": "Python 3"
    },
    "language_info": {
      "name": "python"
    }
  },
  "cells": [
    {
      "cell_type": "markdown",
      "metadata": {
        "id": "view-in-github",
        "colab_type": "text"
      },
      "source": [
        "<a href=\"https://colab.research.google.com/github/vsurdacki/BTE320-Assignments/blob/main/ICA_3_31_error.ipynb\" target=\"_parent\"><img src=\"https://colab.research.google.com/assets/colab-badge.svg\" alt=\"Open In Colab\"/></a>"
      ]
    },
    {
      "cell_type": "code",
      "execution_count": 6,
      "metadata": {
        "colab": {
          "base_uri": "https://localhost:8080/"
        },
        "id": "OHCf5gRZDMdD",
        "outputId": "82c2f049-a8f4-4512-c162-97cf83259a1c"
      },
      "outputs": [
        {
          "output_type": "stream",
          "name": "stdout",
          "text": [
            "Enter number of hours: 5tfc\n",
            "Cannot cast to int().\n"
          ]
        }
      ],
      "source": [
        "def calcFee(hours):\n",
        "  fee = 5 + 2.5 * hours\n",
        "  if fee < 10:\n",
        "    fee = 10.0\n",
        "  elif fee >20:\n",
        "    fee = 20.0\n",
        "  print (f'Fee: {fee}$')\n",
        "\n",
        "def main():\n",
        "  try:\n",
        "    numHours = int(input('Enter number of hours: '))\n",
        "    calcFee(numHours)\n",
        "  except ValueError:\n",
        "    print('Cannot cast to int().')\n",
        "  except:\n",
        "    print('Unknown error...')\n",
        "\n",
        "\n",
        "if __name__ == \"__main__\":\n",
        "  main()"
      ]
    },
    {
      "cell_type": "code",
      "source": [
        "def getValues(n):\n",
        "  L =[]\n",
        "  for i in range(n):\n",
        "    weight = float(input(f'Please enter weight {i+1}: '))\n",
        "    L.append(weight)\n",
        "  return L\n",
        "\n",
        "def calcAverage(alist):\n",
        "  try:\n",
        "    print(f'The average weight (excluding the first two) is {average}')\n",
        "  except zeroDivisionError:\n",
        "    print(f'List (alist) is empty')\n",
        "\n",
        "if __name__ == '__main__':\n",
        "  try:\n",
        "    n = int(input('Enter size of list: '))\n",
        "    alist = getValues(n)\n",
        "    calcAverage(alist)\n",
        "  except ValueError:\n",
        "    print('Cannot cast to int().')\n",
        ""
      ],
      "metadata": {
        "id": "gM0ATxSCGjc4"
      },
      "execution_count": null,
      "outputs": []
    }
  ]
}