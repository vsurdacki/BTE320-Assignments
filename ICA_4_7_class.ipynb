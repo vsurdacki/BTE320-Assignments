{
  "nbformat": 4,
  "nbformat_minor": 0,
  "metadata": {
    "colab": {
      "provenance": [],
      "authorship_tag": "ABX9TyPfQSkOj9edMuENbZI6CC6Y",
      "include_colab_link": true
    },
    "kernelspec": {
      "name": "python3",
      "display_name": "Python 3"
    },
    "language_info": {
      "name": "python"
    }
  },
  "cells": [
    {
      "cell_type": "markdown",
      "metadata": {
        "id": "view-in-github",
        "colab_type": "text"
      },
      "source": [
        "<a href=\"https://colab.research.google.com/github/vsurdacki/BTE320-Assignments/blob/main/ICA_4_7_class.ipynb\" target=\"_parent\"><img src=\"https://colab.research.google.com/assets/colab-badge.svg\" alt=\"Open In Colab\"/></a>"
      ]
    },
    {
      "cell_type": "markdown",
      "source": [
        "defining the class and its methods: ___init___() and display()\n",
        "1. use the class keyword to define the greeting class\n",
        "2. define an __init__() method with 3 parameteres: self, first, last\n",
        "3. add a display() method to display a message like: Hi Donald\n",
        "4. Test the class: greeting = Greeting('Doland','Becker')\n",
        "greeting.display()"
      ],
      "metadata": {
        "id": "UK8ml33NJb1i"
      }
    },
    {
      "cell_type": "code",
      "source": [
        "class Greeting:\n",
        "  def __init__(self, first, last):\n",
        "    self.first = first\n",
        "    self.last = last\n",
        "\n",
        "  def display(self):\n",
        "    print(f\"Hi {self.first}\")\n",
        "\n",
        "# Testing the class\n",
        "greeting = Greeting('Donald', 'Becker')\n",
        "greeting.display()"
      ],
      "metadata": {
        "colab": {
          "base_uri": "https://localhost:8080/"
        },
        "id": "KQYU0a5yKieV",
        "outputId": "3bf984ef-a4d3-49d1-c767-b3fbf600013f"
      },
      "execution_count": 6,
      "outputs": [
        {
          "output_type": "stream",
          "name": "stdout",
          "text": [
            "Hi Donald\n"
          ]
        }
      ]
    }
  ]
}