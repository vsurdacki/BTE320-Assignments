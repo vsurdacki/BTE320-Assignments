{
  "nbformat": 4,
  "nbformat_minor": 0,
  "metadata": {
    "colab": {
      "provenance": [],
      "authorship_tag": "ABX9TyO0ztmBfKRmXXMWqJveofuU",
      "include_colab_link": true
    },
    "kernelspec": {
      "name": "python3",
      "display_name": "Python 3"
    },
    "language_info": {
      "name": "python"
    }
  },
  "cells": [
    {
      "cell_type": "markdown",
      "metadata": {
        "id": "view-in-github",
        "colab_type": "text"
      },
      "source": [
        "<a href=\"https://colab.research.google.com/github/vsurdacki/BTE320-Assignments/blob/main/ICA_4_7_class.ipynb\" target=\"_parent\"><img src=\"https://colab.research.google.com/assets/colab-badge.svg\" alt=\"Open In Colab\"/></a>"
      ]
    },
    {
      "cell_type": "markdown",
      "source": [
        "defining the class and its methods: ___init___() and display()\n",
        "1. use the class keyword to define the greeting class\n",
        "2. define an __init__() method with 3 parameteres: self, first, last\n",
        "3. add a display() method to display a message like: Hi Donald\n",
        "4. Test the class: greeting = Greeting('Doland','Becker')\n",
        "greeting.display()"
      ],
      "metadata": {
        "id": "UK8ml33NJb1i"
      }
    },
    {
      "cell_type": "code",
      "source": [
        "class Greeting:\n",
        "  def __init__(self, first, last):\n",
        "    self.first = first\n",
        "    self.last = last\n",
        "\n",
        "  def display(self):\n",
        "    print(f\"Hi {self.first}\")\n",
        "\n",
        "# Testing the class\n",
        "greeting = Greeting('Donald', 'Becker')\n",
        "greeting.display()"
      ],
      "metadata": {
        "colab": {
          "base_uri": "https://localhost:8080/"
        },
        "id": "KQYU0a5yKieV",
        "outputId": "5b03a218-ae76-4be7-d822-8583849bd858"
      },
      "execution_count": 2,
      "outputs": [
        {
          "output_type": "stream",
          "name": "stdout",
          "text": [
            "Hi Donald\n"
          ]
        }
      ]
    },
    {
      "cell_type": "markdown",
      "source": [
        "5. add a named parameter to the display method, with signature: def display(self, formal = False)\n",
        "6. enhance the display methid:\n",
        "if formal is True, display Hello <first><last>\n",
        "if formal is False, display Hi <first>\n",
        "7. Test your enhanced class:\n",
        "greeting = Greeting('Donald','Becker')\n",
        "greeting.display(formal=True)"
      ],
      "metadata": {
        "id": "s5Gmoze5XORv"
      }
    },
    {
      "cell_type": "code",
      "source": [
        "class Greeting:\n",
        "  def __init__(self, first, last):\n",
        "    self.first = first\n",
        "    self.last = last\n",
        "\n",
        "  def display(self, formal=False):\n",
        "    if formal:\n",
        "      print(f\"Hello {self.first} {self.last}\")\n",
        "    else:\n",
        "      print(f\"Hi {self.first}\")\n",
        "\n",
        "# Testing the class\n",
        "greeting = Greeting('Donald', 'Becker')\n",
        "greeting.display(formal=True)"
      ],
      "metadata": {
        "colab": {
          "base_uri": "https://localhost:8080/"
        },
        "id": "tVinoglNX1Fd",
        "outputId": "0fb7ef02-3a48-4a9f-af25-a88f288da37a"
      },
      "execution_count": 7,
      "outputs": [
        {
          "output_type": "stream",
          "name": "stdout",
          "text": [
            "Hello Donald Becker\n"
          ]
        }
      ]
    },
    {
      "cell_type": "markdown",
      "source": [
        "8. Define the __str__() method that return the properties as a comma-seperated string i.e, <first>,<class>"
      ],
      "metadata": {
        "id": "_x9Nn--vaViI"
      }
    },
    {
      "cell_type": "code",
      "source": [
        "class Greeting:\n",
        "  def __init__(self, first, last):\n",
        "    self.first = first\n",
        "    self.last = last\n",
        "\n",
        "  def display(self, formal=False):\n",
        "    if formal:\n",
        "      print(f\"Hello {self.first} {self.last}\")\n",
        "    else:\n",
        "      print(f\"Hi {self.first}\")\n",
        "\n",
        "  def __str__(self):\n",
        "    return f\"{self.first}, {self.last}\"\n",
        "\n",
        "# Testing the class\n",
        "greeting = Greeting('Donald', 'Becker')\n",
        "greeting2 = Greeting('Bob', \"Dylan\")\n",
        "greeting.display(formal=True)\n",
        "print(greeting)"
      ],
      "metadata": {
        "colab": {
          "base_uri": "https://localhost:8080/"
        },
        "id": "aE8VW6pUag96",
        "outputId": "a4d725ef-1689-4f61-b208-27de7fd15102"
      },
      "execution_count": 12,
      "outputs": [
        {
          "output_type": "stream",
          "name": "stdout",
          "text": [
            "Hello Donald Becker\n",
            "Donald, Becker\n"
          ]
        }
      ]
    }
  ]
}